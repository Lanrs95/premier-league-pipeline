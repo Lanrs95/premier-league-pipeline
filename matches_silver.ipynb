{
 "cells": [
  {
   "cell_type": "code",
   "execution_count": null,
   "id": "33cf2318",
   "metadata": {
    "tags": [
     "parameters"
    ]
   },
   "outputs": [],
   "source": [
    "# parameters\n",
    "PROJECT_ID = \"nice-proposal-467718-q6\"\n",
    "REGION = \"us-west1\"\n",
    "BRONZE_PATH = \"gs://meu-bucket-premier/bronze/\"\n",
    "SILVER_PATH = \"gs://meu-bucket-premier/silver/\"\n",
    "GOLD_PATH = \"gs://meu-bucket-premier/gold/\"\n",
    "RUN_TS = None\n"
   ]
  },
  {
   "cell_type": "code",
   "execution_count": 54,
   "id": "4f5d2cc6-1de6-44be-b9bd-778b925f8218",
   "metadata": {},
   "outputs": [
    {
     "name": "stdout",
     "output_type": "stream",
     "text": [
      "(5320, 43)\n"
     ]
    },
    {
     "data": {
      "text/html": [
       "<div>\n",
       "<style scoped>\n",
       "    .dataframe tbody tr th:only-of-type {\n",
       "        vertical-align: middle;\n",
       "    }\n",
       "\n",
       "    .dataframe tbody tr th {\n",
       "        vertical-align: top;\n",
       "    }\n",
       "\n",
       "    .dataframe thead th {\n",
       "        text-align: right;\n",
       "    }\n",
       "</style>\n",
       "<table border=\"1\" class=\"dataframe\">\n",
       "  <thead>\n",
       "    <tr style=\"text-align: right;\">\n",
       "      <th></th>\n",
       "      <th>Unnamed: 0</th>\n",
       "      <th>Home Team</th>\n",
       "      <th>Away Team</th>\n",
       "      <th>Score</th>\n",
       "      <th>Half Time Score</th>\n",
       "      <th>Match Excitement</th>\n",
       "      <th>Home Team Rating</th>\n",
       "      <th>Away Team Rating</th>\n",
       "      <th>Home Team Possession %</th>\n",
       "      <th>Away Team Possession %</th>\n",
       "      <th>...</th>\n",
       "      <th>Away Team Yellow Cards</th>\n",
       "      <th>Away Team Second Yellow Cards</th>\n",
       "      <th>Away Team Red Cards</th>\n",
       "      <th>Home Team Goals Scored</th>\n",
       "      <th>Away Team Goals Scored</th>\n",
       "      <th>Home Team Goals Conceeded</th>\n",
       "      <th>Away Team Goals Conceeded</th>\n",
       "      <th>year</th>\n",
       "      <th>_ingestion_ts</th>\n",
       "      <th>_dataset</th>\n",
       "    </tr>\n",
       "  </thead>\n",
       "  <tbody>\n",
       "    <tr>\n",
       "      <th>0</th>\n",
       "      <td>0.0</td>\n",
       "      <td>MAN UTD</td>\n",
       "      <td>SWANSEA</td>\n",
       "      <td>1-2</td>\n",
       "      <td>0-1</td>\n",
       "      <td>5.9</td>\n",
       "      <td>5.6</td>\n",
       "      <td>7.6</td>\n",
       "      <td>60</td>\n",
       "      <td>40</td>\n",
       "      <td>...</td>\n",
       "      <td>4.0</td>\n",
       "      <td>0.0</td>\n",
       "      <td>0.0</td>\n",
       "      <td>1.0</td>\n",
       "      <td>2.0</td>\n",
       "      <td>2.0</td>\n",
       "      <td>1.0</td>\n",
       "      <td>2014.0</td>\n",
       "      <td>2025-08-13T14:39:37+00:00</td>\n",
       "      <td>matches_2014_2020</td>\n",
       "    </tr>\n",
       "    <tr>\n",
       "      <th>1</th>\n",
       "      <td>1.0</td>\n",
       "      <td>WEST BROM</td>\n",
       "      <td>SUNDERLAND</td>\n",
       "      <td>2-2</td>\n",
       "      <td>1-1</td>\n",
       "      <td>7.3</td>\n",
       "      <td>6.5</td>\n",
       "      <td>7.4</td>\n",
       "      <td>58</td>\n",
       "      <td>42</td>\n",
       "      <td>...</td>\n",
       "      <td>1.0</td>\n",
       "      <td>0.0</td>\n",
       "      <td>0.0</td>\n",
       "      <td>2.0</td>\n",
       "      <td>2.0</td>\n",
       "      <td>2.0</td>\n",
       "      <td>2.0</td>\n",
       "      <td>2014.0</td>\n",
       "      <td>2025-08-13T14:39:37+00:00</td>\n",
       "      <td>matches_2014_2020</td>\n",
       "    </tr>\n",
       "    <tr>\n",
       "      <th>2</th>\n",
       "      <td>2.0</td>\n",
       "      <td>LEICESTER CITY</td>\n",
       "      <td>EVERTON</td>\n",
       "      <td>2-2</td>\n",
       "      <td>1-2</td>\n",
       "      <td>7.0</td>\n",
       "      <td>6.5</td>\n",
       "      <td>6.3</td>\n",
       "      <td>37</td>\n",
       "      <td>63</td>\n",
       "      <td>...</td>\n",
       "      <td>1.0</td>\n",
       "      <td>0.0</td>\n",
       "      <td>0.0</td>\n",
       "      <td>2.0</td>\n",
       "      <td>2.0</td>\n",
       "      <td>2.0</td>\n",
       "      <td>2.0</td>\n",
       "      <td>2014.0</td>\n",
       "      <td>2025-08-13T14:39:37+00:00</td>\n",
       "      <td>matches_2014_2020</td>\n",
       "    </tr>\n",
       "    <tr>\n",
       "      <th>3</th>\n",
       "      <td>3.0</td>\n",
       "      <td>WEST HAM</td>\n",
       "      <td>TOTTENHAM</td>\n",
       "      <td>0-1</td>\n",
       "      <td>0-0</td>\n",
       "      <td>4.8</td>\n",
       "      <td>5.9</td>\n",
       "      <td>6.4</td>\n",
       "      <td>47</td>\n",
       "      <td>53</td>\n",
       "      <td>...</td>\n",
       "      <td>0.0</td>\n",
       "      <td>0.0</td>\n",
       "      <td>1.0</td>\n",
       "      <td>0.0</td>\n",
       "      <td>1.0</td>\n",
       "      <td>1.0</td>\n",
       "      <td>0.0</td>\n",
       "      <td>2014.0</td>\n",
       "      <td>2025-08-13T14:39:37+00:00</td>\n",
       "      <td>matches_2014_2020</td>\n",
       "    </tr>\n",
       "    <tr>\n",
       "      <th>4</th>\n",
       "      <td>4.0</td>\n",
       "      <td>QPR</td>\n",
       "      <td>HULL CITY</td>\n",
       "      <td>0-1</td>\n",
       "      <td>0-0</td>\n",
       "      <td>3.8</td>\n",
       "      <td>5.7</td>\n",
       "      <td>6.6</td>\n",
       "      <td>51</td>\n",
       "      <td>49</td>\n",
       "      <td>...</td>\n",
       "      <td>2.0</td>\n",
       "      <td>0.0</td>\n",
       "      <td>0.0</td>\n",
       "      <td>0.0</td>\n",
       "      <td>1.0</td>\n",
       "      <td>1.0</td>\n",
       "      <td>0.0</td>\n",
       "      <td>2014.0</td>\n",
       "      <td>2025-08-13T14:39:37+00:00</td>\n",
       "      <td>matches_2014_2020</td>\n",
       "    </tr>\n",
       "  </tbody>\n",
       "</table>\n",
       "<p>5 rows × 43 columns</p>\n",
       "</div>"
      ],
      "text/plain": [
       "   Unnamed: 0       Home Team   Away Team Score Half Time Score  \\\n",
       "0         0.0         MAN UTD     SWANSEA   1-2             0-1   \n",
       "1         1.0       WEST BROM  SUNDERLAND   2-2             1-1   \n",
       "2         2.0  LEICESTER CITY     EVERTON   2-2             1-2   \n",
       "3         3.0        WEST HAM   TOTTENHAM   0-1             0-0   \n",
       "4         4.0             QPR   HULL CITY   0-1             0-0   \n",
       "\n",
       "   Match Excitement  Home Team Rating  Away Team Rating  \\\n",
       "0               5.9               5.6               7.6   \n",
       "1               7.3               6.5               7.4   \n",
       "2               7.0               6.5               6.3   \n",
       "3               4.8               5.9               6.4   \n",
       "4               3.8               5.7               6.6   \n",
       "\n",
       "   Home Team Possession %  Away Team Possession %  ...  \\\n",
       "0                      60                      40  ...   \n",
       "1                      58                      42  ...   \n",
       "2                      37                      63  ...   \n",
       "3                      47                      53  ...   \n",
       "4                      51                      49  ...   \n",
       "\n",
       "   Away Team Yellow Cards  Away Team Second Yellow Cards  Away Team Red Cards  \\\n",
       "0                     4.0                            0.0                  0.0   \n",
       "1                     1.0                            0.0                  0.0   \n",
       "2                     1.0                            0.0                  0.0   \n",
       "3                     0.0                            0.0                  1.0   \n",
       "4                     2.0                            0.0                  0.0   \n",
       "\n",
       "   Home Team Goals Scored  Away Team Goals Scored  Home Team Goals Conceeded  \\\n",
       "0                     1.0                     2.0                        2.0   \n",
       "1                     2.0                     2.0                        2.0   \n",
       "2                     2.0                     2.0                        2.0   \n",
       "3                     0.0                     1.0                        1.0   \n",
       "4                     0.0                     1.0                        1.0   \n",
       "\n",
       "   Away Team Goals Conceeded    year              _ingestion_ts  \\\n",
       "0                        1.0  2014.0  2025-08-13T14:39:37+00:00   \n",
       "1                        2.0  2014.0  2025-08-13T14:39:37+00:00   \n",
       "2                        2.0  2014.0  2025-08-13T14:39:37+00:00   \n",
       "3                        0.0  2014.0  2025-08-13T14:39:37+00:00   \n",
       "4                        0.0  2014.0  2025-08-13T14:39:37+00:00   \n",
       "\n",
       "            _dataset  \n",
       "0  matches_2014_2020  \n",
       "1  matches_2014_2020  \n",
       "2  matches_2014_2020  \n",
       "3  matches_2014_2020  \n",
       "4  matches_2014_2020  \n",
       "\n",
       "[5 rows x 43 columns]"
      ]
     },
     "execution_count": 54,
     "metadata": {},
     "output_type": "execute_result"
    }
   ],
   "source": [
    "import pandas as pd\n",
    "\n",
    "# Caminho no GCS\n",
    "csv_path = \"gs://meu-bucket-premier/bronze/epl/matches_2014_2020/matches_2014_2020.csv\"\n",
    "\n",
    "# Ler CSV direto do GCS\n",
    "df = pd.read_csv(csv_path, storage_options={\"token\": \"cloud\"})\n",
    "\n",
    "# Mostrar as primeiras linhas\n",
    "print(df.shape)\n",
    "df.head()"
   ]
  },
  {
   "cell_type": "code",
   "execution_count": 55,
   "id": "71adf6e7-6df0-4f9f-9b77-4057688193f0",
   "metadata": {},
   "outputs": [],
   "source": [
    "df = df.drop(\"Unnamed: 0\", axis= 1)\n",
    "df = df.drop(\"_ingestion_ts\", axis= 1)"
   ]
  },
  {
   "cell_type": "code",
   "execution_count": 56,
   "id": "eb23258f-5957-4f31-be2f-6ae5f24d9664",
   "metadata": {},
   "outputs": [
    {
     "name": "stdout",
     "output_type": "stream",
     "text": [
      "<class 'pandas.core.frame.DataFrame'>\n",
      "RangeIndex: 5320 entries, 0 to 5319\n",
      "Data columns (total 41 columns):\n",
      " #   Column                         Non-Null Count  Dtype  \n",
      "---  ------                         --------------  -----  \n",
      " 0   Home Team                      5320 non-null   object \n",
      " 1   Away Team                      5320 non-null   object \n",
      " 2   Score                          5320 non-null   object \n",
      " 3   Half Time Score                5320 non-null   object \n",
      " 4   Match Excitement               5320 non-null   float64\n",
      " 5   Home Team Rating               5320 non-null   float64\n",
      " 6   Away Team Rating               5320 non-null   float64\n",
      " 7   Home Team Possession %         5320 non-null   int64  \n",
      " 8   Away Team Possession %         5320 non-null   int64  \n",
      " 9   Home Team Off Target Shots     5320 non-null   float64\n",
      " 10  Home Team On Target Shots      5320 non-null   float64\n",
      " 11  Home Team Total Shots          5320 non-null   float64\n",
      " 12  Home Team Blocked Shots        5320 non-null   float64\n",
      " 13  Home Team Corners              5320 non-null   float64\n",
      " 14  Home Team Throw Ins            5320 non-null   float64\n",
      " 15  Home Team Pass Success %       5320 non-null   float64\n",
      " 16  Home Team Aerials Won          5320 non-null   float64\n",
      " 17  Home Team Clearances           5320 non-null   float64\n",
      " 18  Home Team Fouls                5320 non-null   float64\n",
      " 19  Home Team Yellow Cards         5320 non-null   float64\n",
      " 20  Home Team Second Yellow Cards  5320 non-null   float64\n",
      " 21  Home Team Red Cards            5320 non-null   float64\n",
      " 22  Away Team Off Target Shots     5320 non-null   float64\n",
      " 23  Away Team On Target Shots      5320 non-null   float64\n",
      " 24  Away Team Total Shots          5320 non-null   float64\n",
      " 25  Away Team Blocked Shots        5320 non-null   float64\n",
      " 26  Away Team Corners              5320 non-null   float64\n",
      " 27  Away Team Throw Ins            5320 non-null   float64\n",
      " 28  Away Team Pass Success %       5320 non-null   float64\n",
      " 29  Away Team Aerials Won          5320 non-null   float64\n",
      " 30  Away Team Clearances           5320 non-null   float64\n",
      " 31  Away Team Fouls                5320 non-null   float64\n",
      " 32  Away Team Yellow Cards         5320 non-null   float64\n",
      " 33  Away Team Second Yellow Cards  5320 non-null   float64\n",
      " 34  Away Team Red Cards            5320 non-null   float64\n",
      " 35  Home Team Goals Scored         2660 non-null   float64\n",
      " 36  Away Team Goals Scored         2660 non-null   float64\n",
      " 37  Home Team Goals Conceeded      2660 non-null   float64\n",
      " 38  Away Team Goals Conceeded      2660 non-null   float64\n",
      " 39  year                           2660 non-null   float64\n",
      " 40  _dataset                       5320 non-null   object \n",
      "dtypes: float64(34), int64(2), object(5)\n",
      "memory usage: 1.7+ MB\n"
     ]
    }
   ],
   "source": [
    "df.info()"
   ]
  },
  {
   "cell_type": "code",
   "execution_count": 57,
   "id": "5c763650-ea1d-4cc7-bb8f-0a04c47f8702",
   "metadata": {},
   "outputs": [
    {
     "data": {
      "text/plain": [
       "Home Team                           0\n",
       "Away Team                           0\n",
       "Score                               0\n",
       "Half Time Score                     0\n",
       "Match Excitement                    0\n",
       "Home Team Rating                    0\n",
       "Away Team Rating                    0\n",
       "Home Team Possession %              0\n",
       "Away Team Possession %              0\n",
       "Home Team Off Target Shots          0\n",
       "Home Team On Target Shots           0\n",
       "Home Team Total Shots               0\n",
       "Home Team Blocked Shots             0\n",
       "Home Team Corners                   0\n",
       "Home Team Throw Ins                 0\n",
       "Home Team Pass Success %            0\n",
       "Home Team Aerials Won               0\n",
       "Home Team Clearances                0\n",
       "Home Team Fouls                     0\n",
       "Home Team Yellow Cards              0\n",
       "Home Team Second Yellow Cards       0\n",
       "Home Team Red Cards                 0\n",
       "Away Team Off Target Shots          0\n",
       "Away Team On Target Shots           0\n",
       "Away Team Total Shots               0\n",
       "Away Team Blocked Shots             0\n",
       "Away Team Corners                   0\n",
       "Away Team Throw Ins                 0\n",
       "Away Team Pass Success %            0\n",
       "Away Team Aerials Won               0\n",
       "Away Team Clearances                0\n",
       "Away Team Fouls                     0\n",
       "Away Team Yellow Cards              0\n",
       "Away Team Second Yellow Cards       0\n",
       "Away Team Red Cards                 0\n",
       "Home Team Goals Scored           2660\n",
       "Away Team Goals Scored           2660\n",
       "Home Team Goals Conceeded        2660\n",
       "Away Team Goals Conceeded        2660\n",
       "year                             2660\n",
       "_dataset                            0\n",
       "dtype: int64"
      ]
     },
     "execution_count": 57,
     "metadata": {},
     "output_type": "execute_result"
    }
   ],
   "source": [
    "df.isnull().sum()"
   ]
  },
  {
   "cell_type": "markdown",
   "id": "0a7df638-cc7d-4ffa-bb18-770b9a6ff80c",
   "metadata": {},
   "source": [
    "#### Tomada de decisão\n",
    "\n",
    "- **Problema identificado**: Os campos *Home Team Goals Scored*, *Away Team Goals Scored*, *Home Team Goals Conceded* e *Away Team Goals Conceded* continham valores nulos.\n",
    "- **Ação tomada**: Substituí os valores nulos por 0.\n",
    "- **Justificativa**: No contexto do futebol, a ausência de informação nesses campos significa que a equipe não marcou ou não sofreu gols na partida."
   ]
  },
  {
   "cell_type": "code",
   "execution_count": 58,
   "id": "a9f0ffeb-24c3-4260-8252-665b447adedb",
   "metadata": {},
   "outputs": [],
   "source": [
    "df.fillna(0, inplace = True)"
   ]
  },
  {
   "cell_type": "code",
   "execution_count": 62,
   "id": "23d4b234-0f4f-4cca-bb54-6bfb91b34d0d",
   "metadata": {},
   "outputs": [
    {
     "data": {
      "text/plain": [
       "array([2014, 2015, 2016, 2017, 2018, 2019, 2020])"
      ]
     },
     "execution_count": 62,
     "metadata": {},
     "output_type": "execute_result"
    }
   ],
   "source": [
    "df.year.unique()"
   ]
  },
  {
   "cell_type": "code",
   "execution_count": 60,
   "id": "daf1eccb-5f64-456b-a9f8-bd4cafa913e2",
   "metadata": {},
   "outputs": [],
   "source": [
    "df[\"year\"] = df[\"year\"].astype(int)"
   ]
  },
  {
   "cell_type": "code",
   "execution_count": 61,
   "id": "8a6ebd13-8880-49ee-9eca-c2c9612db4ce",
   "metadata": {},
   "outputs": [],
   "source": [
    "df = df[df[\"year\"] != 0]"
   ]
  },
  {
   "cell_type": "code",
   "execution_count": 63,
   "id": "6d5fad14-0fbb-422a-b6e3-f742f46e038e",
   "metadata": {},
   "outputs": [
    {
     "name": "stdout",
     "output_type": "stream",
     "text": [
      "✅ Arquivo salvo com sucesso na Silver: gs://meu-bucket-premier/silver/epl/matches_2014_2020/matches_2014_2020_silver.csv\n"
     ]
    }
   ],
   "source": [
    "# Caminho na camada Silver\n",
    "silver_path = \"gs://meu-bucket-premier/silver/epl/matches_2014_2020/matches_2014_2020_silver.csv\"\n",
    "\n",
    "# Salvando o DataFrame tratado\n",
    "df.to_csv(\n",
    "    silver_path,\n",
    "    index=False,\n",
    "    storage_options={\"token\": \"cloud\"}\n",
    ")\n",
    "\n",
    "print(f\"✅ Arquivo salvo com sucesso na Silver: {silver_path}\")\n"
   ]
  },
  {
   "cell_type": "code",
   "execution_count": null,
   "id": "1eb71d8c-5163-42c0-8ed1-0494c230c2f9",
   "metadata": {},
   "outputs": [],
   "source": []
  },
  {
   "cell_type": "code",
   "execution_count": 53,
   "id": "b8de57bf-575c-47ab-b722-e2ea6dbe9104",
   "metadata": {},
   "outputs": [
    {
     "name": "stdout",
     "output_type": "stream",
     "text": [
      "gs://meu-bucket-premier/silver/epl/matches_2014_2020/\n"
     ]
    }
   ],
   "source": [
    "!gsutil ls gs://meu-bucket-premier/silver/epl/"
   ]
  },
  {
   "cell_type": "code",
   "execution_count": null,
   "id": "b70ed691-6dc8-4300-9434-b0b115bb9480",
   "metadata": {},
   "outputs": [],
   "source": []
  },
  {
   "cell_type": "code",
   "execution_count": null,
   "id": "5ee2612c-6680-45cd-bf3a-9a2d4924d9b0",
   "metadata": {},
   "outputs": [],
   "source": []
  },
  {
   "cell_type": "code",
   "execution_count": null,
   "id": "ca1c3ee6-50b6-4789-836d-eb2990664568",
   "metadata": {},
   "outputs": [],
   "source": []
  },
  {
   "cell_type": "code",
   "execution_count": null,
   "id": "5579916e-273c-468d-b2f4-ca877ccfd0cf",
   "metadata": {},
   "outputs": [],
   "source": []
  },
  {
   "cell_type": "code",
   "execution_count": null,
   "id": "e2011fd6-d9a8-41ce-ba0f-b7ae6ae74dc9",
   "metadata": {},
   "outputs": [],
   "source": []
  },
  {
   "cell_type": "code",
   "execution_count": null,
   "id": "0b959376-9445-48df-accb-2f0eb0da7f38",
   "metadata": {},
   "outputs": [],
   "source": []
  }
 ],
 "metadata": {
  "environment": {
   "kernel": "conda-base-py",
   "name": "workbench-notebooks.m131",
   "type": "gcloud",
   "uri": "us-docker.pkg.dev/deeplearning-platform-release/gcr.io/workbench-notebooks:m131"
  },
  "kernelspec": {
   "display_name": "Python 3",
   "language": "python",
   "name": "python3"
  },
  "language_info": {
   "codemirror_mode": {
    "name": "ipython",
    "version": 3
   },
   "file_extension": ".py",
   "mimetype": "text/x-python",
   "name": "python",
   "nbconvert_exporter": "python",
   "pygments_lexer": "ipython3",
   "version": "3.10.18"
  }
 },
 "nbformat": 4,
 "nbformat_minor": 5
}
