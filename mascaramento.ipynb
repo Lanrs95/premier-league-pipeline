{
 "cells": [
  {
   "cell_type": "code",
   "execution_count": null,
   "id": "be6345c6",
   "metadata": {
    "tags": [
     "parameters"
    ]
   },
   "outputs": [],
   "source": [
    "# parameters\n",
    "PROJECT_ID = \"nice-proposal-467718-q6\"\n",
    "REGION = \"us-west1\"\n",
    "BRONZE_PATH = \"gs://meu-bucket-premier/bronze/\"\n",
    "SILVER_PATH = \"gs://meu-bucket-premier/silver/\"\n",
    "GOLD_PATH = \"gs://meu-bucket-premier/gold/\"\n",
    "RUN_TS = None\n"
   ]
  },
  {
   "cell_type": "code",
   "execution_count": 1,
   "id": "e8edd786-c038-4341-b88a-2efe7f183342",
   "metadata": {},
   "outputs": [
    {
     "name": "stdout",
     "output_type": "stream",
     "text": [
      "✅ Players com CPF salvo em: gs://meu-bucket-premier/gold/epl/players_with_cpf/players_with_cpf.csv\n",
      "✅ Times com CNPJ salvo em: gs://meu-bucket-premier/gold/epl/teams_with_cnpj/teams_with_cnpj.csv\n"
     ]
    }
   ],
   "source": [
    "import pandas as pd, hashlib, re\n",
    "import gcsfs\n",
    "\n",
    "# ===== CONFIG =====\n",
    "BUCKET = \"gs://meu-bucket-premier\"\n",
    "\n",
    "# Ajuste para os caminhos reais da sua Silver:\n",
    "SILVER_PLAYERS = f\"{BUCKET}/silver/epl/player_stats_all_time/player_stats_all_time_silver.csv\"\n",
    "SILVER_TEAMS   = f\"{BUCKET}/silver/epl/teams_players_1992_2024/teams_players_1992_2024_silver.csv\"\n",
    "\n",
    "# Saídas na GOLD:\n",
    "GOLD_PLAYERS_OUT = f\"{BUCKET}/gold/epl/players_with_cpf/players_with_cpf.csv\"\n",
    "GOLD_TEAMS_OUT   = f\"{BUCKET}/gold/epl/teams_with_cnpj/teams_with_cnpj.csv\"\n",
    "\n",
    "fs = gcsfs.GCSFileSystem(token=\"cloud\")\n",
    "\n",
    "# ===== Helpers determinísticos =====\n",
    "def _digits_from_hash(text: str, n: int, salt: str) -> list[int]:\n",
    "    h = hashlib.sha256((salt + \"::\" + str(text)).encode()).hexdigest()\n",
    "    digs = [int(ch) for ch in re.sub(r\"\\D\",\"\",h)]\n",
    "    # recicla se faltar\n",
    "    while len(digs) < n: digs += digs\n",
    "    return digs[:n]\n",
    "\n",
    "def cpf_from_text(text: str, salt: str = \"cpf-salt\") -> str:\n",
    "    # base 9 dígitos\n",
    "    b = _digits_from_hash(text, 9, salt)\n",
    "    # dv1\n",
    "    s = sum(d * w for d, w in zip(b, range(10, 1, -1)))\n",
    "    dv1 = (s * 10) % 11; dv1 = 0 if dv1 == 10 else dv1\n",
    "    # dv2\n",
    "    s = sum(d * w for d, w in zip(b + [dv1], range(11, 1, -1)))\n",
    "    dv2 = (s * 10) % 11; dv2 = 0 if dv2 == 10 else dv2\n",
    "    nums = b + [dv1, dv2]\n",
    "    return f\"{nums[0]}{nums[1]}{nums[2]}.{nums[3]}{nums[4]}{nums[5]}.{nums[6]}{nums[7]}{nums[8]}-{nums[9]}{nums[10]}\"\n",
    "\n",
    "def cnpj_from_text(text: str, salt: str = \"cnpj-salt\") -> str:\n",
    "    # base 12 dígitos\n",
    "    b = _digits_from_hash(text, 12, salt)\n",
    "    # dv1\n",
    "    w1 = [5,4,3,2,9,8,7,6,5,4,3,2]\n",
    "    s = sum(d*w for d,w in zip(b, w1))\n",
    "    dv1 = 11 - (s % 11); dv1 = 0 if dv1 >= 10 else dv1\n",
    "    # dv2\n",
    "    w2 = [6] + w1\n",
    "    s = sum(d*w for d,w in zip(b + [dv1], w2))\n",
    "    dv2 = 11 - (s % 11); dv2 = 0 if dv2 >= 10 else dv2\n",
    "    nums = b + [dv1, dv2]\n",
    "    return f\"{nums[0]}{nums[1]}.{nums[2]}{nums[3]}{nums[4]}.{nums[5]}{nums[6]}{nums[7]}/{nums[8]}{nums[9]}{nums[10]}{nums[11]}-{nums[12]}{nums[13]}\"\n",
    "\n",
    "def mask_left(value: str, keep_right: int, mask_char=\"*\") -> str:\n",
    "    if not isinstance(value, str): return value\n",
    "    return mask_char*(len(value)-keep_right) + value[-keep_right:]\n",
    "\n",
    "# ===== Detectores de coluna (jogador/time) =====\n",
    "def pick(cols, *cands):\n",
    "    cl = [c.lower() for c in cols]\n",
    "    for cand in cands:\n",
    "        if cand.lower() in cl:\n",
    "            return cols[cl.index(cand.lower())]\n",
    "    for cand in cands:\n",
    "        for i,c in enumerate(cl):\n",
    "            if cand.lower() in c:\n",
    "                return cols[i]\n",
    "    return None\n",
    "\n",
    "# ===== 1) Jogadores: gerar CPF e mascarar =====\n",
    "players = pd.read_csv(fs.open(SILVER_PLAYERS, \"rb\"))\n",
    "col_player = pick(players.columns, \"player\", \"player_name\", \"name\", \"athlete\")\n",
    "if col_player is None:\n",
    "    raise ValueError(f\"Não achei coluna de jogador em {SILVER_PLAYERS}. Colunas: {players.columns.tolist()}\")\n",
    "\n",
    "players[\"cpf\"] = players[col_player].astype(str).apply(cpf_from_text)\n",
    "players[\"cpf_mascarado\"] = players[\"cpf\"].apply(lambda x: mask_left(x, keep_right=4))  # ***.***.***-*234\n",
    "players.to_csv(fs.open(GOLD_PLAYERS_OUT, \"wb\"), index=False)\n",
    "print(\"✅ Players com CPF salvo em:\", GOLD_PLAYERS_OUT)\n",
    "\n",
    "# ===== 2) Clubes: gerar CNPJ e mascarar =====\n",
    "teams_df = pd.read_csv(fs.open(SILVER_TEAMS, \"rb\"))\n",
    "col_team = pick(teams_df.columns, \"team\", \"team_name\", \"club\", \"squad\")\n",
    "if col_team is None:\n",
    "    raise ValueError(f\"Não achei coluna de time em {SILVER_TEAMS}. Colunas: {teams_df.columns.tolist()}\")\n",
    "\n",
    "teams_df[\"cnpj\"] = teams_df[col_team].astype(str).apply(cnpj_from_text)\n",
    "teams_df[\"cnpj_mascarado\"] = teams_df[\"cnpj\"].apply(lambda x: mask_left(x, keep_right=4))  # **.***.***/****-1234\n",
    "teams_df.to_csv(fs.open(GOLD_TEAMS_OUT, \"wb\"), index=False)\n",
    "print(\"✅ Times com CNPJ salvo em:\", GOLD_TEAMS_OUT)\n"
   ]
  },
  {
   "cell_type": "code",
   "execution_count": null,
   "id": "a6fc4dba-1dcb-409a-bd40-8e5e57ce15ee",
   "metadata": {},
   "outputs": [],
   "source": []
  }
 ],
 "metadata": {
  "environment": {
   "kernel": "conda-base-py",
   "name": "workbench-notebooks.m131",
   "type": "gcloud",
   "uri": "us-docker.pkg.dev/deeplearning-platform-release/gcr.io/workbench-notebooks:m131"
  },
  "kernelspec": {
   "display_name": "Python 3",
   "language": "python",
   "name": "python3"
  },
  "language_info": {
   "codemirror_mode": {
    "name": "ipython",
    "version": 3
   },
   "file_extension": ".py",
   "mimetype": "text/x-python",
   "name": "python",
   "nbconvert_exporter": "python",
   "pygments_lexer": "ipython3",
   "version": "3.10.18"
  }
 },
 "nbformat": 4,
 "nbformat_minor": 5
}
